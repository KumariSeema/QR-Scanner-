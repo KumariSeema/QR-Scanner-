{
 "cells": [
  {
   "cell_type": "markdown",
   "id": "1ebbeeac",
   "metadata": {},
   "source": [
    "# QR Scanner"
   ]
  },
  {
   "cell_type": "markdown",
   "id": "e7ca675f",
   "metadata": {},
   "source": [
    "Simple Black and White QR Code"
   ]
  },
  {
   "cell_type": "code",
   "execution_count": null,
   "id": "d915d25d",
   "metadata": {},
   "outputs": [],
   "source": [
    "import PIL"
   ]
  },
  {
   "cell_type": "code",
   "execution_count": null,
   "id": "e7f90981",
   "metadata": {},
   "outputs": [],
   "source": [
    "pip install qrcode "
   ]
  },
  {
   "cell_type": "code",
   "execution_count": null,
   "id": "21dbcbad",
   "metadata": {},
   "outputs": [],
   "source": [
    "import qrcode as qr"
   ]
  },
  {
   "cell_type": "code",
   "execution_count": null,
   "id": "f6360fb7",
   "metadata": {},
   "outputs": [],
   "source": [
    "image = qr.make(\"congo, you won\")\n",
    "image.save(\"Result.png\")"
   ]
  },
  {
   "cell_type": "code",
   "execution_count": null,
   "id": "496915fd",
   "metadata": {},
   "outputs": [],
   "source": [
    "import qrcode\n",
    "from PIL import Image\n",
    "\n",
    "\n",
    "qr = qrcode.QRCode(ver)"
   ]
  },
  {
   "cell_type": "markdown",
   "id": "d52ef969",
   "metadata": {},
   "source": [
    "Advance QR code"
   ]
  },
  {
   "cell_type": "code",
   "execution_count": null,
   "id": "2218ec3f",
   "metadata": {},
   "outputs": [],
   "source": [
    "import qrcode"
   ]
  },
  {
   "cell_type": "code",
   "execution_count": null,
   "id": "7d838fae",
   "metadata": {},
   "outputs": [],
   "source": [
    "from PIL import Image"
   ]
  },
  {
   "cell_type": "code",
   "execution_count": null,
   "id": "d1aa54ef",
   "metadata": {},
   "outputs": [],
   "source": [
    "qr = qrcode.QRCode(version = 1,error_correction = qrcode.constants.ERROR_CORRECT_H,box_size = 10\n",
    "                     ,border = 4)"
   ]
  },
  {
   "cell_type": "code",
   "execution_count": null,
   "id": "084f66e7",
   "metadata": {},
   "outputs": [],
   "source": [
    "qr.add_data(\"HELLO, HOW ARE YOU ?\")"
   ]
  },
  {
   "cell_type": "code",
   "execution_count": null,
   "id": "0dee645c",
   "metadata": {},
   "outputs": [],
   "source": [
    "qr.make(fit = True)"
   ]
  },
  {
   "cell_type": "code",
   "execution_count": null,
   "id": "b89e7658",
   "metadata": {},
   "outputs": [],
   "source": [
    "img = qr.make_image(fill_color = \"Green\",back_color=\"white\")"
   ]
  },
  {
   "cell_type": "code",
   "execution_count": null,
   "id": "3b075b27",
   "metadata": {},
   "outputs": [],
   "source": [
    "img.save(\"Question.png\")"
   ]
  }
 ],
 "metadata": {
  "kernelspec": {
   "display_name": "Python 3 (ipykernel)",
   "language": "python",
   "name": "python3"
  },
  "language_info": {
   "codemirror_mode": {
    "name": "ipython",
    "version": 3
   },
   "file_extension": ".py",
   "mimetype": "text/x-python",
   "name": "python",
   "nbconvert_exporter": "python",
   "pygments_lexer": "ipython3",
   "version": "3.9.12"
  }
 },
 "nbformat": 4,
 "nbformat_minor": 5
}
